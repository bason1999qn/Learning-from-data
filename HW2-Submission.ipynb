{
 "cells": [
  {
   "cell_type": "markdown",
   "metadata": {},
   "source": [
    "# Bài tập 2\n"
   ]
  },
  {
   "cell_type": "markdown",
   "metadata": {},
   "source": [
    "## Câu 1 (1 điểm)"
   ]
  },
  {
   "cell_type": "markdown",
   "metadata": {},
   "source": [
    "Code dùng cho câu 1-2."
   ]
  },
  {
   "cell_type": "code",
   "execution_count": 1,
   "metadata": {},
   "outputs": [
    {
     "name": "stdout",
     "output_type": "stream",
     "text": [
      "0.037940999999999996\n"
     ]
    }
   ],
   "source": [
    "import numpy as np\n",
    "\n",
    "v1s = []\n",
    "vrands = []\n",
    "vmins = []\n",
    "\n",
    "for i in range(100000):\n",
    "\n",
    "    # 1 = heads, 0 = tails\n",
    "    C = np.random.randint(0, 1+1, [1000, 10])\n",
    "\n",
    "    c1 = C[0,:]\n",
    "    crand = C[np.random.randint(0, 1000),:]\n",
    "    cmin = C[np.argmin(np.sum(C, axis=1)),:]\n",
    "\n",
    "    v1s.append(np.mean(c1))\n",
    "    vrands.append(np.mean(crand))\n",
    "    vmins.append(np.mean(cmin))\n",
    "print(np.mean(vmins))"
   ]
  },
  {
   "cell_type": "markdown",
   "metadata": {
    "deletable": false,
    "nbgrader": {
     "cell_type": "markdown",
     "checksum": "2e83d862b3c5fd4fb57d72c50e8115f8",
     "grade": true,
     "grade_id": "c1",
     "locked": false,
     "points": 1,
     "schema_version": 3,
     "solution": true,
     "task": false
    }
   },
   "source": [
    "YOUR ANSWER HERE Do đó, em chọn đáp án [b] 0.01 "
   ]
  },
  {
   "cell_type": "markdown",
   "metadata": {},
   "source": [
    "## Câu 2 (1 điểm)"
   ]
  },
  {
   "cell_type": "code",
   "execution_count": 2,
   "metadata": {},
   "outputs": [
    {
     "name": "stdout",
     "output_type": "stream",
     "text": [
      "0.037940999999999996\n",
      "0.5001249999999999\n",
      "0.499079\n"
     ]
    }
   ],
   "source": [
    "print(np.mean(vmins))\n",
    "print(np.mean(v1s))\n",
    "print(np.mean(vrands))"
   ]
  },
  {
   "cell_type": "markdown",
   "metadata": {
    "deletable": false,
    "nbgrader": {
     "cell_type": "markdown",
     "checksum": "47d4e2bb3e4812ef7b37e032a898cfec",
     "grade": true,
     "grade_id": "c2",
     "locked": false,
     "points": 1,
     "schema_version": 3,
     "solution": true,
     "task": false
    }
   },
   "source": [
    "YOUR ANSWER HERE Ta thấy giá trị trung bình của $\\nu_{1}$ và $\\nu_{rand}$ gần với $\\mu$ nhất. Do đó, em chọn đáp án [d]"
   ]
  },
  {
   "cell_type": "markdown",
   "metadata": {},
   "source": [
    "## Câu 3 (1 điểm)"
   ]
  },
  {
   "cell_type": "markdown",
   "metadata": {},
   "source": [
    "Có hai khả năng gây ra lỗi (error):\n",
    "1. h tạo ra lỗi với xác suất $\\mu$, nhưng y là giá trị sai, tức là y = f(x) với xác suất là $\\lambda$.\n",
    "2. h không tạo lỗi với xác suất (1 - $\\mu$),nhưng y là giá trị sai, hay y != f(x) với xác suất (1 - $\\lambda$)<br>\n",
    "Nên ta suy ra được ông thức: \n",
    "P(error) = $\\lambda*$\\mu + (1- $\\lambda$)*(1 - $\\mu$)\n",
    "\n"
   ]
  },
  {
   "cell_type": "markdown",
   "metadata": {
    "deletable": false,
    "nbgrader": {
     "cell_type": "markdown",
     "checksum": "0997a909d9ab1f250c2bfd0645fee970",
     "grade": true,
     "grade_id": "c3",
     "locked": false,
     "points": 1,
     "schema_version": 3,
     "solution": true,
     "task": false
    }
   },
   "source": [
    "YOUR ANSWER HERE Do đó, em chọn đáp án [e] "
   ]
  },
  {
   "cell_type": "markdown",
   "metadata": {},
   "source": [
    "## Câu 4 (1 điểm)"
   ]
  },
  {
   "cell_type": "markdown",
   "metadata": {},
   "source": [
    "Ta biến đổi P(error):<br>\n",
    "P(error) = $\\lambda*$\\mu + (1- $\\lambda$)*(1 - $\\mu$)<br>\n",
    "           = $\\lambda*$\\mu + 1 - $\\lambda$ - $\\mu$ + $\\lambda*$\\mu<br>\n",
    "           = 1 - $\\lambda$ + $\\mu$*(2$\\lambda$ - 1)<br>\n",
    "\n",
    "Ta dễ dàng nhận thấy, tại $\\lambda$ = $\\frac{1}{2}$ ,  P(error) = 1 - $\\lambda$ => không còn phụ thuộc vào biến $\\mu$. Điều đó chứng minh dù giả thuyết có tốt đến đâu thì tổng xác suất xảy ra lỗi là 0.5 (hay 50%)."
   ]
  },
  {
   "cell_type": "markdown",
   "metadata": {
    "deletable": false,
    "nbgrader": {
     "cell_type": "markdown",
     "checksum": "efabab5c4035a6864ac8cb3e0061c6f0",
     "grade": true,
     "grade_id": "c4",
     "locked": false,
     "points": 1,
     "schema_version": 3,
     "solution": true,
     "task": false
    }
   },
   "source": [
    "YOUR ANSWER HERE Do đó, em chọn đáp án [b] "
   ]
  },
  {
   "cell_type": "markdown",
   "metadata": {},
   "source": [
    "## Câu 5 (1 điểm)"
   ]
  },
  {
   "cell_type": "markdown",
   "metadata": {},
   "source": [
    "Code dùng cho câu 5-7."
   ]
  },
  {
   "cell_type": "code",
   "execution_count": 3,
   "metadata": {},
   "outputs": [],
   "source": [
    "import numpy as np\n",
    "import random"
   ]
  },
  {
   "cell_type": "code",
   "execution_count": 4,
   "metadata": {},
   "outputs": [],
   "source": [
    "def generate_target_w():\n",
    "    \"\"\"\n",
    "    Generates target_w (the vector of parameters of f) \n",
    "    from two random, uniformly distributed points in [-1, 1] x [-1, 1].\n",
    "    \n",
    "    Returns\n",
    "    -------\n",
    "    target_w : numpy array, shape (3, 1) \n",
    "        The vector of parameters of f.\n",
    "    \"\"\"\n",
    "    # Generate two points from a uniform distribution over [-1, 1]x[-1, 1]\n",
    "    p1 = np.random.uniform(-1, 1, 2)\n",
    "    \n",
    "    p2 = np.random.uniform(-1, 1, 2)\n",
    "    # Compute the target W from these two points\n",
    "    target_w = np.array([p1[1]*p2[0] - p1[0]*p2[1], p2[1] - p1[1], p1[0] - p2[0]]).reshape((-1, 1))\n",
    "    \n",
    "    return target_w"
   ]
  },
  {
   "cell_type": "code",
   "execution_count": 5,
   "metadata": {},
   "outputs": [],
   "source": [
    "def generate_data(N, target_w):\n",
    "\n",
    "    \"\"\"\n",
    "    Generates a data set by generating random inputs and then using target_w to generate the \n",
    "    corresponding outputs.\n",
    "    \n",
    "    Parameters\n",
    "    ----------\n",
    "    N : int\n",
    "        The number of examples.\n",
    "    target_w : numpy array, shape (3, 1) \n",
    "        The vector of parameters of f.\n",
    "    \n",
    "    Returns\n",
    "    -------\n",
    "    X : numpy array, shape (N, 3)\n",
    "        The matrix of input vectors (each row corresponds to an input vector); the first column of \n",
    "        this matrix is all ones.\n",
    "    Y : numpy array, shape (N, 1)\n",
    "        The vector of outputs.        \n",
    "    \"\"\"\n",
    "    bad_data = True # `bad_data = True` means: data contain points on the target line \n",
    "                    # (this rarely happens, but just to be careful)\n",
    "                    # -> y's of these points = 0 (with np.sign); \n",
    "                    #    we don't want this (y's of data must be -1 or 1)\n",
    "                    # -> re-generate data until `bad_data = False`\n",
    "    \n",
    "    while bad_data == True:\n",
    "        #Tạo N bộ dữ liệu ngẫu nhiên chạy từ -1 đến 1 với dạng [a, b]\n",
    "        X = np.random.uniform(-1, 1, (N, 2))\n",
    "        X = np.hstack((np.ones((N, 1)), X)) # Add 'ones' column\n",
    "        Y = np.sign(np.dot(X, target_w))\n",
    "        if (0 not in Y): # Good data\n",
    "            bad_data = False\n",
    "    \n",
    "    return X, Y\n",
    "\n"
   ]
  },
  {
   "cell_type": "code",
   "execution_count": 6,
   "metadata": {},
   "outputs": [
    {
     "name": "stdout",
     "output_type": "stream",
     "text": [
      "Mean in sample error for N=100 is 0.03347\n"
     ]
    }
   ],
   "source": [
    "N = 100\n",
    "target_w = generate_target_w()\n",
    "E_ins = []\n",
    "\n",
    "for i in range(1000):\n",
    "    # Generate data + true target function\n",
    "    X, ys = generate_data(N, target_w)\n",
    "\n",
    "    # Create a classifier based on least squares linear regression\n",
    "    X_dagger = np.dot(np.linalg.inv(np.dot(X.T, X)), X.T)\n",
    "    w = np.dot(X_dagger, ys)\n",
    "\n",
    "    # Find in-sample error\n",
    "    \n",
    "    predictions = np.sign(np.dot(X, w))\n",
    "    E_in = np.mean(ys != predictions)\n",
    "    E_ins.append(E_in)\n",
    "    \n",
    "print(\"Mean in sample error for N=100 is\", np.mean(E_ins))"
   ]
  },
  {
   "cell_type": "markdown",
   "metadata": {
    "deletable": false,
    "nbgrader": {
     "cell_type": "markdown",
     "checksum": "0b484b8390bec96142e8a1213ee8cd2c",
     "grade": true,
     "grade_id": "c5",
     "locked": false,
     "points": 1,
     "schema_version": 3,
     "solution": true,
     "task": false
    }
   },
   "source": [
    "YOUR ANSWER HERE Giá trị trung bình E_in xoay quanh 0.03, gần với 0.01 nhất. Do đó, em chọn đáp án [c] "
   ]
  },
  {
   "cell_type": "markdown",
   "metadata": {},
   "source": [
    "## Câu 6 (1 điểm)"
   ]
  },
  {
   "cell_type": "code",
   "execution_count": 7,
   "metadata": {},
   "outputs": [],
   "source": [
    "#Hàm viết thêm\n",
    "#Tạo w từ N phần từ, thay thế cho target_w được tạo random.\n",
    "def get_w(N):\n",
    "    target_w = generate_target_w()\n",
    "    X, ys = generate_data(N, target_w)\n",
    "\n",
    "    # Create a classifier based on least squares linear regression\n",
    "    X_dagger = np.dot(np.linalg.inv(np.dot(X.T, X)), X.T)\n",
    "    w = np.dot(X_dagger, ys)\n",
    "    return w"
   ]
  },
  {
   "cell_type": "code",
   "execution_count": 8,
   "metadata": {},
   "outputs": [
    {
     "name": "stdout",
     "output_type": "stream",
     "text": [
      "Mean out of sample error for N=100 is 0.034143\n"
     ]
    }
   ],
   "source": [
    "N = 1000\n",
    "target_w = get_w(100)\n",
    "E_ins = []\n",
    "E_outs = []\n",
    "for i in range(1000):\n",
    "    # Generate data + true target function\n",
    "    X, ys = generate_data(N, target_w)\n",
    "\n",
    "    # using only sample\n",
    "    X_dagger = np.dot(np.linalg.inv(np.dot(X.T, X)), X.T)\n",
    "    w = np.dot(X_dagger, ys)\n",
    "\n",
    "    # Find out of sample error\n",
    "    predictions = np.sign(np.dot(X, w))\n",
    "    E_out = np.mean(ys != predictions)\n",
    "    E_outs.append(E_out)\n",
    "    \n",
    "print(\"Mean out of sample error for N=100 is\", np.mean(E_outs))\n"
   ]
  },
  {
   "cell_type": "markdown",
   "metadata": {
    "deletable": false,
    "nbgrader": {
     "cell_type": "markdown",
     "checksum": "26f542221236fb24d0ddbee584eed7d0",
     "grade": true,
     "grade_id": "c6",
     "locked": false,
     "points": 1,
     "schema_version": 3,
     "solution": true,
     "task": false
    }
   },
   "source": [
    "YOUR ANSWER HERE Giá trị trung bình E_out xoay quanh 0.03, gần với 0.01 nhất. Do đó, em chọn đáp án [c] "
   ]
  },
  {
   "cell_type": "markdown",
   "metadata": {},
   "source": [
    "## Câu 7 (1 điểm)"
   ]
  },
  {
   "cell_type": "markdown",
   "metadata": {
    "deletable": false,
    "nbgrader": {
     "cell_type": "markdown",
     "checksum": "322a244b0fae3a20ec568a5099aaaec1",
     "grade": true,
     "grade_id": "c7",
     "locked": false,
     "points": 1,
     "schema_version": 3,
     "solution": true,
     "task": false
    }
   },
   "source": [
    "YOUR ANSWER HERE"
   ]
  },
  {
   "cell_type": "markdown",
   "metadata": {},
   "source": [
    "## Câu 8 (1 điểm)"
   ]
  },
  {
   "cell_type": "markdown",
   "metadata": {},
   "source": [
    "Code dùng cho câu 8-10"
   ]
  },
  {
   "cell_type": "markdown",
   "metadata": {},
   "source": [
    "Tạo dữ liệu N phần tử và tập đích Y thỏa công thức f(x1, x2) = sign(x1^2 + x2^2-0.6) với 10% nhiễu."
   ]
  },
  {
   "cell_type": "code",
   "execution_count": 9,
   "metadata": {},
   "outputs": [],
   "source": [
    "# Tạo dữ liệu từ hàm f(x1, x2) = sign(x1^2 + x2^2-0.6) mà đề cho\n",
    "def generate_data(N):\n",
    "\n",
    "\n",
    "    bad_data = True # `bad_data = True` means: data contain points on the target line \n",
    "                    # (this rarely happens, but just to be careful)\n",
    "                    # -> y's of these points = 0 (with np.sign); \n",
    "                    #    we don't want this (y's of data must be -1 or 1)\n",
    "                    # -> re-generate data until `bad_data = False`\n",
    "    \n",
    "    while bad_data == True:\n",
    "        #Tạo N bộ dữ liệu ngẫu nhiên chạy từ -1 đến 1 với dạng [a, b]\n",
    "        X = np.random.uniform(-1, 1, (N, 2))\n",
    "        X = np.hstack((np.ones((N, 1)), X)) # Add 'ones' column\n",
    "#       Y = np.sign(np.dot(X, target_w))\n",
    "        #Y được tính theo công thức f(x1, x2) = sign(x1^2 + x2^2-0.6)\n",
    "        Y = np.sign(X[:,1]**2 + X[:,2]**2 - 0.6)\n",
    "        if (0 not in Y): # Good data\n",
    "            bad_data = False\n",
    "            \n",
    "    # Flip 10% to simulate noise\n",
    "    i_flip = np.arange(0, N)\n",
    "    np.random.shuffle(i_flip)\n",
    "    i_flip = i_flip[0:(N//10)]\n",
    "    Y[i_flip] *= -1\n",
    "    \n",
    "    return X, Y\n"
   ]
  },
  {
   "cell_type": "markdown",
   "metadata": {},
   "source": [
    "Tìm giá trị trung bình của E_in qua 1000 lần chạy."
   ]
  },
  {
   "cell_type": "code",
   "execution_count": 10,
   "metadata": {},
   "outputs": [
    {
     "name": "stdout",
     "output_type": "stream",
     "text": [
      "Mean in sample error for N=1000 is 0.505\n"
     ]
    }
   ],
   "source": [
    "N = 1000\n",
    "E_ins = []\n",
    "\n",
    "for i in range(1000):\n",
    "    # Generate data + true target function\n",
    "    X, ys = generate_data(N)\n",
    "\n",
    "    # Create a classifier based on least squares linear regression\n",
    "    X_dagger = np.dot(np.linalg.inv(np.dot(X.T, X)), X.T)\n",
    "    w = np.dot(X_dagger, ys)\n",
    "\n",
    "    # Find in-sample error\n",
    "    predictions = np.sign(np.dot(X, w))\n",
    "    E_in = np.mean(ys != predictions)\n",
    "    E_ins.append(E_in)\n",
    "    \n",
    "print(\"Mean in sample error for N=1000 is\", np.mean(E_ins))"
   ]
  },
  {
   "cell_type": "markdown",
   "metadata": {
    "deletable": false,
    "nbgrader": {
     "cell_type": "markdown",
     "checksum": "d81773f072cd15e4a27b6cd240a5d990",
     "grade": true,
     "grade_id": "c8",
     "locked": false,
     "points": 1,
     "schema_version": 3,
     "solution": true,
     "task": false
    }
   },
   "source": [
    "YOUR ANSWER HERE Giá trị trung bình E_in xoay quanh 0,5. Do đó, em chọn đáp án [d]"
   ]
  },
  {
   "cell_type": "markdown",
   "metadata": {},
   "source": [
    "## Câu 9 (1 điểm)"
   ]
  },
  {
   "cell_type": "code",
   "execution_count": 11,
   "metadata": {},
   "outputs": [
    {
     "data": {
      "text/plain": [
       "array([-0.94078967,  0.0470593 , -0.0026158 , -0.02523107,  1.62695701,\n",
       "        1.46740389])"
      ]
     },
     "execution_count": 11,
     "metadata": {},
     "output_type": "execute_result"
    }
   ],
   "source": [
    "# Chuyển biến đổi X\n",
    "def transform(X):\n",
    "    Z = np.zeros((X.shape[0], 6))\n",
    "    Z[:,0] = X[:,0]\n",
    "    Z[:,1] = X[:,1]\n",
    "    Z[:,2] = X[:,2]\n",
    "    Z[:,3] = X[:,1] * X[:,2]\n",
    "    Z[:,4] = X[:,1]**2\n",
    "    Z[:,5] = X[:,2]**2\n",
    "    return Z\n",
    "X, ys = generate_data(1000)\n",
    "Z = transform(X)\n",
    "# Create a classifier based on least squares linear regression\n",
    "Z_dagger = np.dot(np.linalg.inv(np.dot(Z.T, Z)), Z.T)\n",
    "w = np.dot(Z_dagger, ys)\n",
    "w"
   ]
  },
  {
   "cell_type": "markdown",
   "metadata": {
    "deletable": false,
    "nbgrader": {
     "cell_type": "markdown",
     "checksum": "e814a2db0b8a53e4fddfee4bcbf405fc",
     "grade": true,
     "grade_id": "c9",
     "locked": false,
     "points": 1,
     "schema_version": 3,
     "solution": true,
     "task": false
    }
   },
   "source": [
    "YOUR ANSWER HERE Ta thấy đáp án gần với đáp án A nhất. Do đó, em chọn đáp án [a]"
   ]
  },
  {
   "cell_type": "markdown",
   "metadata": {},
   "source": [
    "## Câu 10 (1 điểm)"
   ]
  },
  {
   "cell_type": "code",
   "execution_count": 12,
   "metadata": {},
   "outputs": [
    {
     "name": "stdout",
     "output_type": "stream",
     "text": [
      "Mean in sample error for N=1000 is 0.079098\n"
     ]
    }
   ],
   "source": [
    "N = 1000\n",
    "E_ins = []\n",
    "\n",
    "for i in range(1000):\n",
    "    # Generate data + true target function\n",
    "    X, ys = generate_data(N)\n",
    "    Z = transform(X)\n",
    "\n",
    "    # Create a classifier based on least squares linear regression\n",
    "    Z_dagger = np.dot(np.linalg.inv(np.dot(Z.T, Z)), Z.T)\n",
    "    w = np.dot(Z_dagger, ys)\n",
    "\n",
    "    # Find in-sample error\n",
    "    predictions = np.sign(np.dot(Z, w))\n",
    "    E_out = np.mean(ys != predictions)\n",
    "    E_outs.append(E_out)\n",
    "    \n",
    "print(\"Mean in sample error for N=1000 is\", np.mean(E_outs))"
   ]
  },
  {
   "cell_type": "markdown",
   "metadata": {
    "deletable": false,
    "nbgrader": {
     "cell_type": "markdown",
     "checksum": "41cbf5c6d2b94eeae0a712be2181fef6",
     "grade": true,
     "grade_id": "c10",
     "locked": false,
     "points": 1,
     "schema_version": 3,
     "solution": true,
     "task": false
    }
   },
   "source": [
    "YOUR ANSWER HERE Giá trị trung bình E_out xoay quanh 0,1. Do đó, em chọn đáp án [b]"
   ]
  }
 ],
 "metadata": {
  "kernelspec": {
   "display_name": "Python 3",
   "language": "python",
   "name": "python3"
  },
  "language_info": {
   "codemirror_mode": {
    "name": "ipython",
    "version": 3
   },
   "file_extension": ".py",
   "mimetype": "text/x-python",
   "name": "python",
   "nbconvert_exporter": "python",
   "pygments_lexer": "ipython3",
   "version": "3.7.6"
  },
  "toc": {
   "base_numbering": 1,
   "nav_menu": {},
   "number_sections": true,
   "sideBar": true,
   "skip_h1_title": false,
   "title_cell": "Table of Contents",
   "title_sidebar": "Contents",
   "toc_cell": false,
   "toc_position": {},
   "toc_section_display": true,
   "toc_window_display": false
  },
  "varInspector": {
   "cols": {
    "lenName": 16,
    "lenType": 16,
    "lenVar": 40
   },
   "kernels_config": {
    "python": {
     "delete_cmd_postfix": "",
     "delete_cmd_prefix": "del ",
     "library": "var_list.py",
     "varRefreshCmd": "print(var_dic_list())"
    },
    "r": {
     "delete_cmd_postfix": ") ",
     "delete_cmd_prefix": "rm(",
     "library": "var_list.r",
     "varRefreshCmd": "cat(var_dic_list()) "
    }
   },
   "types_to_exclude": [
    "module",
    "function",
    "builtin_function_or_method",
    "instance",
    "_Feature"
   ],
   "window_display": false
  }
 },
 "nbformat": 4,
 "nbformat_minor": 4
}
