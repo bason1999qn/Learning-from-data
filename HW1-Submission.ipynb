{
 "cells": [
  {
   "cell_type": "markdown",
   "metadata": {},
   "source": [
    "# Bài tập 1\n"
   ]
  },
  {
   "cell_type": "markdown",
   "metadata": {},
   "source": [
    "## Câu 1 (1 điểm)"
   ]
  },
  {
   "cell_type": "markdown",
   "metadata": {},
   "source": [
    "Trình bày giải thích:\n",
    "- Ở ý (i) đầu tiên, hệ thống không phải là học máy vì input có đầy đủ các thông tin về thông số kĩ thuật để nhận dạng đồng tiền xu. Do đó không cần phải xử lý qua thuật toán (Learning Model) mà vẫn cho ra kết quả chính xác so với thực tế dựa trên phép so sánh với dữ liệu có sẵn. Vì vậy đây không phải học máy.\n",
    "- Ở ý (ii), đây là máy học. Ta có dữ liệu input là những đồng xu cần được xử lý dùng làm tập huấn luyện. Có đủ điều kiện để áp dụng mô hình máy học (Learning Model), các thuật toán học (Learning Algorithm) được áp dụng và bộ giả thuyết (Hypothesis set) dựa trên các đồng xu được gắn nhãn, từ đó thuật toán xử lý để đưa ra các mốc giới hạn để định giá các đồng xu. Vì có dữ liệu đầu vào và tập kết quả xác định để phân loại nên đây là học có giám sát.\n",
    "- Ở ý (iii), đây là học tăng cường. Trường hợp này có dữ liệu đầu vào nhưng không được cung cấp đầu ra chính xác mà chỉ là một phần đầu ra không rõ ràng (nước đi cuối cùng dẫn đến thua cuộc). Đồng thời có sự đánh giá về dữ liệu đầu ra (xử phạt các nước đi cuối dẫn đến thua cuộc)."
   ]
  },
  {
   "cell_type": "markdown",
   "metadata": {
    "deletable": false,
    "nbgrader": {
     "cell_type": "markdown",
     "checksum": "2e83d862b3c5fd4fb57d72c50e8115f8",
     "grade": true,
     "grade_id": "c1",
     "locked": false,
     "points": 1,
     "schema_version": 3,
     "solution": true,
     "task": false
    }
   },
   "source": [
    "YOUR ANSWER HERE Do đó, em chọn đáp án [d]"
   ]
  },
  {
   "cell_type": "markdown",
   "metadata": {
    "heading_collapsed": true
   },
   "source": [
    "## Câu 2 (1 điểm)"
   ]
  },
  {
   "cell_type": "markdown",
   "metadata": {},
   "source": [
    "Trình bày giải thích:\n",
    "- Ở ý (i), việc phân loại chỉ đơn giản giựa vào thuật toán kiểm tra số nguyên tố => không áp dụng Machine Learning\n",
    "- Ở ý (ii), có thể sử dụng Machine Learning vì có dữ liệu input là các thông tín dụng của người dùng, sử dụng thuật toán để dự đoán gian lận dựa trên các hành vi bất thường. \n",
    "- Ở ý (iii), việc xác định thời gian hoàn toàn dựa vào các công thức vật lý => không áp dụng Machine Learning.\n",
    "- Ở ý (iv), có thể sử dụng Machine Learning để tự động hóa đèn giao thông dựa trên dữ liệu từ các camera. Áp dụng thuận toán học để chọn ra chu kỳ tối ưu từ tập huấn luyện, qua đó đối chiếu áp dụng cho các trường hợp thực tế (điều chỉnh theo khung giờ hoặc lưu lượng tham gia giao thông).\n",
    "\n",
    "**Vậy ý (ii) và (iv) phù hợp với Machine Learning**"
   ]
  },
  {
   "cell_type": "markdown",
   "metadata": {
    "deletable": false,
    "hidden": true,
    "nbgrader": {
     "cell_type": "markdown",
     "checksum": "47d4e2bb3e4812ef7b37e032a898cfec",
     "grade": true,
     "grade_id": "c2",
     "locked": false,
     "points": 1,
     "schema_version": 3,
     "solution": true,
     "task": false
    }
   },
   "source": [
    "YOUR ANSWER HERE Do đó, em chọn đáp án [a]"
   ]
  },
  {
   "cell_type": "markdown",
   "metadata": {
    "heading_collapsed": true
   },
   "source": [
    "## Câu 3 (1 điểm)"
   ]
  },
  {
   "cell_type": "markdown",
   "metadata": {},
   "source": [
    "Trình bày giải thích:\n",
    " Chúng ta áp dụng định lý Bayes trong xác suất để giải bài toán, gọi:\n",
    " - P(A) là xác suất lấy ra 1 quả bóng đầu tiên màu đen.\n",
    " - P(B) là xác suất chọn túi chứa 2 bóng đen.<br>\n",
    " <br>Nên ta được: \n",
    " - P(A|B) = 1 (Vì nếu ta chọn túi có 2 bóng đen thì xác suất ra bóng đen là 1)\n",
    " - P(B) =  $\\frac{1}{2}$ (vì chọn 1 trong 2 túi)\n",
    " - P(A) =  $\\frac{3}{4}$ (vì có 3 bi đen và 1 bi trắng)<br>\n",
    " <br>Theo công thức Bayes, điều ta cần tìm là P(B|A),ta có:<br>  \n",
    "  P(B|A) = $\\frac{P(A|B) x P(B)}{P(A)}$ = $\\frac{1 x \\frac{1}{2}}{\\frac{3}{4}}$ = $\\frac{2}{3}$<br>\n",
    "  <br>**Vậy xác xuất để chọn ra 2 quả bóng cùng màu đen từ 1 túi là 2/3**"
   ]
  },
  {
   "cell_type": "markdown",
   "metadata": {
    "deletable": false,
    "hidden": true,
    "nbgrader": {
     "cell_type": "markdown",
     "checksum": "0997a909d9ab1f250c2bfd0645fee970",
     "grade": true,
     "grade_id": "c3",
     "locked": false,
     "points": 1,
     "schema_version": 3,
     "solution": true,
     "task": false
    }
   },
   "source": [
    "YOUR ANSWER HERE Do đó, em chọn đáp án [d]"
   ]
  },
  {
   "cell_type": "markdown",
   "metadata": {
    "heading_collapsed": true
   },
   "source": [
    "## Câu 4 (1 điểm)"
   ]
  },
  {
   "cell_type": "markdown",
   "metadata": {},
   "source": [
    "Trình bày giải thích:\n",
    "  - Xác suất để lấy ra bi đỏ là\t$\\mu = 0.55$\n",
    "  => xác suất để lấy ra bi xanh bằng: 1 - 0.55 = 0.45<br>\n",
    "  Vậy để $\\upsilon = 0$ thì 10 lần lấy đều là bi xanh : $0.45^{10}$ = **3.405 x $10^{-4}$**\n",
    "  "
   ]
  },
  {
   "cell_type": "markdown",
   "metadata": {
    "deletable": false,
    "hidden": true,
    "nbgrader": {
     "cell_type": "markdown",
     "checksum": "efabab5c4035a6864ac8cb3e0061c6f0",
     "grade": true,
     "grade_id": "c4",
     "locked": false,
     "points": 1,
     "schema_version": 3,
     "solution": true,
     "task": false
    }
   },
   "source": [
    "YOUR ANSWER HERE Do đó, em chọn đáp án [b]"
   ]
  },
  {
   "cell_type": "markdown",
   "metadata": {
    "heading_collapsed": true
   },
   "source": [
    "## Câu 5 (1 điểm)"
   ]
  },
  {
   "cell_type": "markdown",
   "metadata": {},
   "source": [
    "Trình bày giải thích:<br>\n",
    "<br>P (ít nhất một mẫu được 10 bi xanh)<br>\n",
    "    = 1 - P (tất cả các mẫu đều chứa <10 bi xanh)<br>\n",
    "    = 1 - P (một mẫu được <10 bi xanh) ^ 1000<br>\n",
    "    = 1 - [1-P (một mẫu được 10 bi xanh)] ^ 1000<br>\n",
    "    = 1 - [1 - $0.45^{10}$] ^ 1000<br>\n",
    "    = 0,289<br>\n",
    "**Vậy xác suất để ít nhất trong 1000 mẫu có 1 mẫu chứa toàn bi xanh là 0.289**"
   ]
  },
  {
   "cell_type": "markdown",
   "metadata": {
    "deletable": false,
    "hidden": true,
    "nbgrader": {
     "cell_type": "markdown",
     "checksum": "0b484b8390bec96142e8a1213ee8cd2c",
     "grade": true,
     "grade_id": "c5",
     "locked": false,
     "points": 1,
     "schema_version": 3,
     "solution": true,
     "task": false
    }
   },
   "source": [
    "YOUR ANSWER HERE Do đó, em chọn đáp án [c]"
   ]
  },
  {
   "cell_type": "markdown",
   "metadata": {
    "heading_collapsed": true
   },
   "source": [
    "## Câu 6 (1 điểm)"
   ]
  },
  {
   "cell_type": "code",
   "execution_count": null,
   "metadata": {},
   "outputs": [],
   "source": [
    "\n"
   ]
  },
  {
   "cell_type": "markdown",
   "metadata": {
    "deletable": false,
    "hidden": true,
    "nbgrader": {
     "cell_type": "markdown",
     "checksum": "26f542221236fb24d0ddbee584eed7d0",
     "grade": true,
     "grade_id": "c6",
     "locked": false,
     "points": 1,
     "schema_version": 3,
     "solution": true,
     "task": false
    }
   },
   "source": [
    "YOUR ANSWER HERE"
   ]
  },
  {
   "cell_type": "markdown",
   "metadata": {
    "heading_collapsed": true
   },
   "source": [
    "## Câu 7 (1 điểm)"
   ]
  },
  {
   "cell_type": "markdown",
   "metadata": {},
   "source": [
    "**Phần code câu 7 được sử dụng để giải câu 7, 8, 9, 10.**"
   ]
  },
  {
   "cell_type": "code",
   "execution_count": 1,
   "metadata": {},
   "outputs": [],
   "source": [
    "import numpy as np\n",
    "import random"
   ]
  },
  {
   "cell_type": "code",
   "execution_count": 2,
   "metadata": {},
   "outputs": [],
   "source": [
    "def generate_target_w():\n",
    "    \"\"\"\n",
    "    Generates target_w (the vector of parameters of f) \n",
    "    from two random, uniformly distributed points in [-1, 1] x [-1, 1].\n",
    "    \n",
    "    Returns\n",
    "    -------\n",
    "    target_w : numpy array, shape (3, 1) \n",
    "        The vector of parameters of f.\n",
    "    \"\"\"\n",
    "    # Generate two points from a uniform distribution over [-1, 1]x[-1, 1]\n",
    "    p1 = np.random.uniform(-1, 1, 2)\n",
    "    p2 = np.random.uniform(-1, 1, 2)\n",
    "    # Compute the target W from these two points\n",
    "    target_w = np.array([p1[1]*p2[0] - p1[0]*p2[1], p2[1] - p1[1], p1[0] - p2[0]]).reshape((-1, 1))\n",
    "    \n",
    "    return target_w"
   ]
  },
  {
   "cell_type": "code",
   "execution_count": 3,
   "metadata": {},
   "outputs": [],
   "source": [
    "def generate_data(N, target_w):\n",
    "\n",
    "    \"\"\"\n",
    "    Generates a data set by generating random inputs and then using target_w to generate the \n",
    "    corresponding outputs.\n",
    "    \n",
    "    Parameters\n",
    "    ----------\n",
    "    N : int\n",
    "        The number of examples.\n",
    "    target_w : numpy array, shape (3, 1) \n",
    "        The vector of parameters of f.\n",
    "    \n",
    "    Returns\n",
    "    -------\n",
    "    X : numpy array, shape (N, 3)\n",
    "        The matrix of input vectors (each row corresponds to an input vector); the first column of \n",
    "        this matrix is all ones.\n",
    "    Y : numpy array, shape (N, 1)\n",
    "        The vector of outputs.        \n",
    "    \"\"\"\n",
    "    bad_data = True # `bad_data = True` means: data contain points on the target line \n",
    "                    # (this rarely happens, but just to be careful)\n",
    "                    # -> y's of these points = 0 (with np.sign); \n",
    "                    #    we don't want this (y's of data must be -1 or 1)\n",
    "                    # -> re-generate data until `bad_data = False`\n",
    "    \n",
    "    while bad_data == True:\n",
    "        #Tạo N bộ dữ liệu ngẫu nhiên chạy từ -1 đến 1 với dạng [a, b]\n",
    "        X = np.random.uniform(-1, 1, (N, 2))\n",
    "        X = np.hstack((np.ones((N, 1)), X)) # Add 'ones' column\n",
    "        Y = np.sign(np.dot(X, target_w))\n",
    "        if (0 not in Y): # Good data\n",
    "            bad_data = False\n",
    "    \n",
    "    return X, Y"
   ]
  },
  {
   "cell_type": "code",
   "execution_count": 4,
   "metadata": {},
   "outputs": [],
   "source": [
    "#Hàm viết thêm\n",
    "#h(x) = sigh(wT*x)\n",
    "def candidate_func(w, point):\n",
    "        return int(np.sign(w[0]*1 + w[1]*point[1] + w[2]*point[2]))\n"
   ]
  },
  {
   "cell_type": "code",
   "execution_count": 5,
   "metadata": {},
   "outputs": [],
   "source": [
    "def run_PLA(X, Y):\n",
    "    \"\"\"\n",
    "    Runs PLA.\n",
    "    \n",
    "    Parameters\n",
    "    ----------\n",
    "    X : numpy array, shape (N, 3)\n",
    "        The matrix of input vectors (each row corresponds to an input vector); the first column of \n",
    "        this matrix is all ones.\n",
    "    Y : numpy array, shape (N, 1)\n",
    "        The vector of outputs.\n",
    "    \n",
    "    Returns\n",
    "    -------\n",
    "    w : numpy array, shape (3, 1) \n",
    "        The vector of parameters of g.\n",
    "    num_iterations : int\n",
    "        The number of iterations PLA takes to converge.\n",
    "    \"\"\"\n",
    "    w = np.zeros((X.shape[1], 1)) # Init w\n",
    "    iteration = 0\n",
    "    #TODO\n",
    "    while True:\n",
    "            misclassified_points = []\n",
    "            for (x, y) in zip(X, Y):\n",
    "                if candidate_func(w, x) != y:\n",
    "                    misclassified_points.append((x.reshape(3, 1), y))\n",
    "            if len(misclassified_points) > 0:\n",
    "                iteration += 1\n",
    "                x, y = random.choice(misclassified_points)\n",
    "                w = w + y*x\n",
    "            else:\n",
    "                return w, iteration"
   ]
  },
  {
   "cell_type": "code",
   "execution_count": 6,
   "metadata": {},
   "outputs": [],
   "source": [
    "def learning_from_data(N): # You don't have to name this function \"main\", you can use other names\n",
    "    \"\"\"\n",
    "    Parameters\n",
    "    ----------\n",
    "    N : int\n",
    "        The number of training examples.\n",
    "    \"\"\"\n",
    "    num_runs = 1000\n",
    "    avg_num_iterations = 0.0 # The average number of iterations PLA takes to converge\n",
    "    avg_test_err = 0.0 # The average test error of g - the final hypothesis picked by PLA\n",
    "    \n",
    "    for r in range(num_runs):\n",
    "        # Generate target_w\n",
    "        target_w = generate_target_w()\n",
    "        \n",
    "        # Generate training set\n",
    "        X, Y = generate_data(N, target_w)\n",
    "        \n",
    "        # Run PLA to pick g\n",
    "        w, num_iterations = run_PLA(X, Y)\n",
    "        \n",
    "        # Generate test set\n",
    "        X_test, Y_test = generate_data(10000, target_w)\n",
    "        \n",
    "        # Test g\n",
    "        test_err = np.mean(np.sign(np.dot(X_test, w)) != Y_test)\n",
    "        \n",
    "        # Update average values\n",
    "        avg_num_iterations += (num_iterations * 1.0 / num_runs)\n",
    "        avg_test_err += (test_err * 1.0 / num_runs)\n",
    "    \n",
    "    # Print results\n",
    "    print('avg_num_iterations = %f' % (avg_num_iterations))\n",
    "    print('avg_test_err = %f' % (avg_test_err))"
   ]
  },
  {
   "cell_type": "code",
   "execution_count": 7,
   "metadata": {},
   "outputs": [
    {
     "name": "stdout",
     "output_type": "stream",
     "text": [
      "avg_num_iterations = 9.698000\n",
      "avg_test_err = 0.108019\n"
     ]
    }
   ],
   "source": [
    "# Run to find out answers for question 7 & 8! \n",
    "learning_from_data(N=10) "
   ]
  },
  {
   "cell_type": "markdown",
   "metadata": {
    "deletable": false,
    "hidden": true,
    "nbgrader": {
     "cell_type": "markdown",
     "checksum": "322a244b0fae3a20ec568a5099aaaec1",
     "grade": true,
     "grade_id": "c7",
     "locked": false,
     "points": 1,
     "schema_version": 3,
     "solution": true,
     "task": false
    }
   },
   "source": [
    "YOUR ANSWER HERE Kết quả chạy khoảng 10 lần lặp. Do đó, em chọn đáp án [b]"
   ]
  },
  {
   "cell_type": "markdown",
   "metadata": {
    "heading_collapsed": true
   },
   "source": [
    "## Câu 8 (1 điểm)"
   ]
  },
  {
   "cell_type": "markdown",
   "metadata": {
    "deletable": false,
    "hidden": true,
    "nbgrader": {
     "cell_type": "markdown",
     "checksum": "d81773f072cd15e4a27b6cd240a5d990",
     "grade": true,
     "grade_id": "c8",
     "locked": false,
     "points": 1,
     "schema_version": 3,
     "solution": true,
     "task": false
    }
   },
   "source": [
    "YOUR ANSWER HERE Kết quả chạy khoảng 0,1. Do đó, em chọn đáp án [c]"
   ]
  },
  {
   "cell_type": "markdown",
   "metadata": {
    "heading_collapsed": true
   },
   "source": [
    "## Câu 9 (1 điểm)"
   ]
  },
  {
   "cell_type": "markdown",
   "metadata": {},
   "source": [
    "**Kết quả đoạn code sau được sử dụng cho câu 9 và câu 10.**"
   ]
  },
  {
   "cell_type": "code",
   "execution_count": 8,
   "metadata": {},
   "outputs": [
    {
     "name": "stdout",
     "output_type": "stream",
     "text": [
      "avg_num_iterations = 109.692000\n",
      "avg_test_err = 0.013607\n"
     ]
    }
   ],
   "source": [
    "# Question 9 & 10\n",
    "learning_from_data(N=100)"
   ]
  },
  {
   "cell_type": "markdown",
   "metadata": {
    "deletable": false,
    "hidden": true,
    "nbgrader": {
     "cell_type": "markdown",
     "checksum": "e814a2db0b8a53e4fddfee4bcbf405fc",
     "grade": true,
     "grade_id": "c9",
     "locked": false,
     "points": 1,
     "schema_version": 3,
     "solution": true,
     "task": false
    }
   },
   "source": [
    "YOUR ANSWER HERE Kết quả chạy khoảng 100 lần lặp. Do đó, em chọn đáp án [b]"
   ]
  },
  {
   "cell_type": "markdown",
   "metadata": {},
   "source": [
    "## Câu 10 (1 điểm)"
   ]
  },
  {
   "cell_type": "markdown",
   "metadata": {
    "deletable": false,
    "nbgrader": {
     "cell_type": "markdown",
     "checksum": "41cbf5c6d2b94eeae0a712be2181fef6",
     "grade": true,
     "grade_id": "c10",
     "locked": false,
     "points": 1,
     "schema_version": 3,
     "solution": true,
     "task": false
    }
   },
   "source": [
    "YOUR ANSWER HERE Kết quả chạy khoảng 0,01. Do đó, em chọn đáp án [b]"
   ]
  }
 ],
 "metadata": {
  "kernelspec": {
   "display_name": "Python 3",
   "language": "python",
   "name": "python3"
  },
  "language_info": {
   "codemirror_mode": {
    "name": "ipython",
    "version": 3
   },
   "file_extension": ".py",
   "mimetype": "text/x-python",
   "name": "python",
   "nbconvert_exporter": "python",
   "pygments_lexer": "ipython3",
   "version": "3.7.6"
  },
  "toc": {
   "base_numbering": 1,
   "nav_menu": {},
   "number_sections": true,
   "sideBar": true,
   "skip_h1_title": false,
   "title_cell": "Table of Contents",
   "title_sidebar": "Contents",
   "toc_cell": false,
   "toc_position": {},
   "toc_section_display": true,
   "toc_window_display": false
  },
  "varInspector": {
   "cols": {
    "lenName": 16,
    "lenType": 16,
    "lenVar": 40
   },
   "kernels_config": {
    "python": {
     "delete_cmd_postfix": "",
     "delete_cmd_prefix": "del ",
     "library": "var_list.py",
     "varRefreshCmd": "print(var_dic_list())"
    },
    "r": {
     "delete_cmd_postfix": ") ",
     "delete_cmd_prefix": "rm(",
     "library": "var_list.r",
     "varRefreshCmd": "cat(var_dic_list()) "
    }
   },
   "types_to_exclude": [
    "module",
    "function",
    "builtin_function_or_method",
    "instance",
    "_Feature"
   ],
   "window_display": false
  }
 },
 "nbformat": 4,
 "nbformat_minor": 4
}
