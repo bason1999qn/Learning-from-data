{
 "cells": [
  {
   "cell_type": "markdown",
   "metadata": {},
   "source": [
    "# Bài tập 4\n"
   ]
  },
  {
   "cell_type": "markdown",
   "metadata": {},
   "source": [
    "## Câu 1 (1 điểm)"
   ]
  },
  {
   "cell_type": "markdown",
   "metadata": {},
   "source": [
    "- Theo đề bài, với $N > d_{VC}$ thì $m_\\mathcal{H}(N) \\approx N^{d_{VC}}$. \n",
    "Còn khi $N \\leq d_{VC}$ thì  $m_\\mathcal{H}(N) = N^{d_{VC}} + 1$ \n",
    "\n",
    "- \"95% confidence\" nghĩa là $1 - \\delta = 0.95$ => $\\delta = 0.05$; \"your generalization error is at most 0.05\" nghĩa là $\\epsilon = 0.05$.\n",
    "\n",
    "- Tìm $N$ bằng cách giải phương trình: $\\epsilon = \\sqrt{\\frac{8}{N} ln \\frac{4m_\\mathcal{H}(2N)}{\\delta} } $. (1)\n",
    "\n",
    "(1) <=> $N = \\frac{8}{\\epsilon^2}(ln\\frac{4((2N)^{d\\mathcal{vc}}+1)}{\\delta}) $"
   ]
  },
  {
   "cell_type": "code",
   "execution_count": 1,
   "metadata": {},
   "outputs": [
    {
     "name": "stdout",
     "output_type": "stream",
     "text": [
      "Giới hạn tổng quát của VC: N = 452956.83215921914\n"
     ]
    }
   ],
   "source": [
    "import numpy as np\n",
    "# delta = 0.05\n",
    "# dvc = 10\n",
    "# epsilon = 0.05\n",
    "# initial_N=1000 (Giá trị dự đoán N cho vòng đệ quy)\n",
    "\n",
    "#Dùng đệ quy để tính toán N cho đến khi N - N(dự đoán) < 1:\n",
    "def get_N(delta = 0.05, dvc = 10, epsilon = 0.05, initial_N=1000):\n",
    "    N = 8 / epsilon**2 * np.log((4 * ((2 * initial_N) ** dvc + 1) / delta))\n",
    "    if (N - initial_N) < 1:\n",
    "        return N\n",
    "    else:\n",
    "        return get_N(delta, dvc, epsilon, N)\n",
    "print(\"Giới hạn tổng quát của VC: N = {}\".format(get_N()))"
   ]
  },
  {
   "cell_type": "markdown",
   "metadata": {
    "deletable": false,
    "nbgrader": {
     "cell_type": "markdown",
     "checksum": "2e83d862b3c5fd4fb57d72c50e8115f8",
     "grade": true,
     "grade_id": "c1",
     "locked": false,
     "points": 1,
     "schema_version": 3,
     "solution": true,
     "task": false
    }
   },
   "source": [
    "YOUR ANSWER HERE Giá trị của N gần với 460000 nhất. Do đó, em chọn đáp án [d]"
   ]
  },
  {
   "cell_type": "markdown",
   "metadata": {},
   "source": [
    "## Câu 2 (1 điểm)"
   ]
  },
  {
   "cell_type": "markdown",
   "metadata": {},
   "source": [
    "Với $N > d_{VC}$ thì ta có thể áp dụng xấp xỉ $m_\\mathcal{H}(N) \\approx N^{d_{VC}}$ (như đã nêu trong **Câu 1**).\n",
    "\n",
    "Đối với câu a, b:"
   ]
  },
  {
   "cell_type": "code",
   "execution_count": 2,
   "metadata": {},
   "outputs": [],
   "source": [
    "import math\n",
    "N = 10000\n",
    "dvc = 50\n",
    "delta = 0.05\n",
    "epsilon_a = lambda N,dvc,delta: (math.sqrt(8/N * math.log(4 / delta * (2*N)**dvc)))\n",
    "epsilon_b = lambda N,dvc,delta: (math.sqrt(2/N * math.log(2*N * N**dvc)) + math.sqrt(-2/N * math.log(delta)) + 1/N)"
   ]
  },
  {
   "cell_type": "markdown",
   "metadata": {},
   "source": [
    "Đối với câu c: \n",
    "- Bình phương 2 vế ta được bất phương trình bậc 2 theo $\\epsilon$ sau: $\\epsilon^2 - \\frac{2\\epsilon}{N} - \\frac{1}{N} ln(\\frac{6m_\\mathcal{H}(2N)}{\\delta}) \\leq 0$ \n"
   ]
  },
  {
   "cell_type": "code",
   "execution_count": 3,
   "metadata": {},
   "outputs": [],
   "source": [
    "def epsilon_c(N,dvc,delta):\n",
    "    #Giải hệ phương trình dạng ax^2 + bx + c = 0 \n",
    "    a = 1\n",
    "    b = -2/N\n",
    "    c = - 1/N *math.log(6 * (2*N)**dvc/delta)\n",
    "    d = b**2-4*a*c \n",
    "    #chỉ xét nghiệm dương\n",
    "    return (-b + math.sqrt(d)) / (2 * a)"
   ]
  },
  {
   "cell_type": "markdown",
   "metadata": {},
   "source": [
    "Đối với câu d: \n",
    "- Bình phương 2 vế ta được bất phương trình bậc 2 theo $\\epsilon$ sau: $\\epsilon^2 (1 - \\frac{2}{N}) - \\frac{2\\epsilon}{N} - \\frac{1}{2N}ln(\\frac{4m_\\mathcal{H}(N^2)}{\\delta}) \\leq 0$ \n"
   ]
  },
  {
   "cell_type": "code",
   "execution_count": 4,
   "metadata": {},
   "outputs": [],
   "source": [
    "def epsilon_d(N,dvc,delta):\n",
    "    #Giải hệ phương trình dạng ax^2 + bx + c = 0 \n",
    "    a = 1 - 2/N\n",
    "    b = -2/N\n",
    "    c = - 1/(2*N) * (math.log(4 * N**(2*dvc)) - math.log(delta))\n",
    "    d = b**2-4*a*c \n",
    "    #chỉ xét nghiệm dương\n",
    "    return (-b + math.sqrt(d)) / (2 * a)\n"
   ]
  },
  {
   "cell_type": "code",
   "execution_count": 5,
   "metadata": {},
   "outputs": [
    {
     "name": "stdout",
     "output_type": "stream",
     "text": [
      "Giá trị của các ràng buộc:\n",
      " -Original VC bound: 0.632174915200836 \n",
      " -Rademacher Penalty Bound: 0.3313087859616395 \n",
      " -Parrondo and Van den Broek: 0.2236982936807856 \n",
      " -Devroye: 0.21522804980824667\n"
     ]
    }
   ],
   "source": [
    "print(\"Giá trị của các ràng buộc:\\n -Original VC bound:\",epsilon_a(N,dvc,delta),\n",
    "      \"\\n -Rademacher Penalty Bound:\",epsilon_b(N,dvc,delta),\n",
    "     \"\\n -Parrondo and Van den Broek:\",epsilon_c(N,dvc,delta),\n",
    "     \"\\n -Devroye:\",epsilon_d(N,dvc,delta))"
   ]
  },
  {
   "cell_type": "markdown",
   "metadata": {
    "deletable": false,
    "nbgrader": {
     "cell_type": "markdown",
     "checksum": "47d4e2bb3e4812ef7b37e032a898cfec",
     "grade": true,
     "grade_id": "c2",
     "locked": false,
     "points": 1,
     "schema_version": 3,
     "solution": true,
     "task": false
    }
   },
   "source": [
    "YOUR ANSWER HERE Vậy tại N lớn (N=10000) thì ràng buộc Devroye là nhỏ nhất. Do đó, em chọn đáp án [d]"
   ]
  },
  {
   "cell_type": "markdown",
   "metadata": {},
   "source": [
    "## Câu 3 (1 điểm)"
   ]
  },
  {
   "cell_type": "code",
   "execution_count": 6,
   "metadata": {},
   "outputs": [
    {
     "name": "stdout",
     "output_type": "stream",
     "text": [
      "Giá trị của các ràng buộc:\n",
      " -Original VC bound: 13.828161484991483 \n",
      " -Rademacher Penalty Bound: 7.048776564183685 \n",
      " -Parrondo and Van den Broek: 5.101361981989992 \n",
      " -Devroye: 5.59312554318267\n"
     ]
    }
   ],
   "source": [
    "N = 5\n",
    "print(\"Giá trị của các ràng buộc:\\n -Original VC bound:\",epsilon_a(N,dvc,delta),\n",
    "      \"\\n -Rademacher Penalty Bound:\",epsilon_b(N,dvc,delta),\n",
    "     \"\\n -Parrondo and Van den Broek:\",epsilon_c(N,dvc,delta),\n",
    "     \"\\n -Devroye:\",epsilon_d(N,dvc,delta))"
   ]
  },
  {
   "cell_type": "markdown",
   "metadata": {
    "deletable": false,
    "nbgrader": {
     "cell_type": "markdown",
     "checksum": "0997a909d9ab1f250c2bfd0645fee970",
     "grade": true,
     "grade_id": "c3",
     "locked": false,
     "points": 1,
     "schema_version": 3,
     "solution": true,
     "task": false
    }
   },
   "source": [
    "YOUR ANSWER HERE Vậy tại N nhỏ (N=5) thì ràng buộc Parrondo and Van den Broek là nhỏ nhất. Do đó, em chọn đáp án [c]"
   ]
  },
  {
   "cell_type": "markdown",
   "metadata": {},
   "source": [
    "## Câu 4 (1 điểm)"
   ]
  },
  {
   "cell_type": "code",
   "execution_count": 7,
   "metadata": {},
   "outputs": [],
   "source": [
    "def generate_dataset(N):\n",
    "    X = np.random.uniform(-1, 1, (N, 1))\n",
    "    Y = np.sin(np.pi * X)\n",
    "    return X, Y\n"
   ]
  },
  {
   "cell_type": "code",
   "execution_count": 8,
   "metadata": {},
   "outputs": [
    {
     "name": "stdout",
     "output_type": "stream",
     "text": [
      "[[-0.52135366]\n",
      " [-0.14092496]]\n",
      "[[-0.99775068]\n",
      " [-0.42840679]]\n"
     ]
    }
   ],
   "source": [
    "X, Y = generate_dataset(2)\n",
    "print(X)\n",
    "print(Y)"
   ]
  },
  {
   "cell_type": "code",
   "execution_count": 9,
   "metadata": {},
   "outputs": [
    {
     "data": {
      "text/plain": [
       "[<matplotlib.lines.Line2D at 0x1f69bb51f08>]"
      ]
     },
     "execution_count": 9,
     "metadata": {},
     "output_type": "execute_result"
    },
    {
     "data": {
      "image/png": "[encoded data removed]",
      "text/plain": [
       "<Figure size 576x396 with 1 Axes>"
      ]
     },
     "metadata": {},
     "output_type": "display_data"
    }
   ],
   "source": [
    "# Trực quan hóa hàm f và 2 điểm dữ liệu được phát sinh ở trên\n",
    "%matplotlib inline\n",
    "import matplotlib.pyplot as plt\n",
    "plt.style.use(\"seaborn\")\n",
    "\n",
    "xx = np.arange(-1, 1, 0.01).reshape(-1, 1)\n",
    "yy = np.sin(np.pi * xx)\n",
    "plt.plot(xx, yy, color=\"black\")\n",
    "plt.plot(X, Y, \"o\", color=\"blue\")"
   ]
  },
  {
   "cell_type": "markdown",
   "metadata": {},
   "source": [
    "---\n",
    "**Code dùng cho câu 4,5,6:**"
   ]
  },
  {
   "cell_type": "code",
   "execution_count": 10,
   "metadata": {},
   "outputs": [],
   "source": [
    "#Tìm a^ của g^ = a^.x\n",
    "def get_a_list(N):\n",
    "    a = []\n",
    "    for i in range(N):\n",
    "        X, Y = generate_dataset(2)\n",
    "        # Tìm w (tương tự a)\n",
    "        X_dagger = np.dot(np.linalg.inv(np.dot(X.T, X)), X.T)\n",
    "        w = np.dot(X_dagger, Y)\n",
    "        a.append(w)\n",
    "    return a"
   ]
  },
  {
   "cell_type": "code",
   "execution_count": 11,
   "metadata": {},
   "outputs": [
    {
     "name": "stdout",
     "output_type": "stream",
     "text": [
      "g^ =  1.42 x\n"
     ]
    }
   ],
   "source": [
    "# g_mean = a_mean*x\n",
    "# a_list và a_hat dùng chung cho câu 5 và 6.\n",
    "a_list = get_a_list(10000)\n",
    "a_hat = np.mean(a_list)\n",
    "print(\"g^ = \", np.round(a_hat, 2), \"x\")"
   ]
  },
  {
   "cell_type": "markdown",
   "metadata": {
    "deletable": false,
    "nbgrader": {
     "cell_type": "markdown",
     "checksum": "efabab5c4035a6864ac8cb3e0061c6f0",
     "grade": true,
     "grade_id": "c4",
     "locked": false,
     "points": 1,
     "schema_version": 3,
     "solution": true,
     "task": false
    }
   },
   "source": [
    "YOUR ANSWER HERE Giá trị của a^ xoay quanh 1.4, không khớp với các đáp án mà đề cho. Do đó, em chọn đáp án [e]"
   ]
  },
  {
   "cell_type": "markdown",
   "metadata": {},
   "source": [
    "## Câu 5 (1 điểm)"
   ]
  },
  {
   "cell_type": "markdown",
   "metadata": {},
   "source": [
    "\n",
    "Theo công thức lý thuyết đã học:\n",
    "$$bias = \\mathbb{E}_\\mathbf{x}\\left[(\\bar{g}(\\mathbf{x}) - f(\\mathbf{x}))^2\\right]$$"
   ]
  },
  {
   "cell_type": "code",
   "execution_count": 12,
   "metadata": {},
   "outputs": [
    {
     "name": "stdout",
     "output_type": "stream",
     "text": [
      "bias = 0.27\n"
     ]
    }
   ],
   "source": [
    "X, Y = generate_dataset(10000)\n",
    "bias = np.mean((a_hat * X - Y)**2)\n",
    "print(\"bias =\", np.round(bias, 2))"
   ]
  },
  {
   "cell_type": "markdown",
   "metadata": {
    "deletable": false,
    "nbgrader": {
     "cell_type": "markdown",
     "checksum": "0b484b8390bec96142e8a1213ee8cd2c",
     "grade": true,
     "grade_id": "c5",
     "locked": false,
     "points": 1,
     "schema_version": 3,
     "solution": true,
     "task": false
    }
   },
   "source": [
    "YOUR ANSWER HERE Giá trị của bias xoay quanh 0.27. Do đó, em chọn đáp án [b]"
   ]
  },
  {
   "cell_type": "markdown",
   "metadata": {},
   "source": [
    "## Câu 6 (1 điểm)"
   ]
  },
  {
   "cell_type": "markdown",
   "metadata": {},
   "source": [
    "$$var =  \\mathbb{E}_\\mathbf{x}\\left[\\mathbb{E}_\\mathcal{D}\\left[(g^{(\\mathcal{D})}(\\mathbf{x}) - \\bar{g}(\\mathbf{x}))^2\\right]\\right]$$"
   ]
  },
  {
   "cell_type": "code",
   "execution_count": 13,
   "metadata": {},
   "outputs": [
    {
     "name": "stdout",
     "output_type": "stream",
     "text": [
      "variance = 0.24\n"
     ]
    }
   ],
   "source": [
    "# variance = np.mean((np.outer(a_list, X) - a_hat * X)**2)\n",
    "variance = np.mean((X*a_list - a_hat * X)**2)\n",
    "print(\"variance =\", np.round(variance, 2))"
   ]
  },
  {
   "cell_type": "markdown",
   "metadata": {
    "deletable": false,
    "nbgrader": {
     "cell_type": "markdown",
     "checksum": "26f542221236fb24d0ddbee584eed7d0",
     "grade": true,
     "grade_id": "c6",
     "locked": false,
     "points": 1,
     "schema_version": 3,
     "solution": true,
     "task": false
    }
   },
   "source": [
    "YOUR ANSWER HERE Giá trị của variance xoay quanh 0.24. Do đó, em chọn đáp án [a]"
   ]
  },
  {
   "cell_type": "markdown",
   "metadata": {},
   "source": [
    "## Câu 7 (1 điểm)"
   ]
  },
  {
   "cell_type": "markdown",
   "metadata": {},
   "source": [
    "\n",
    "$$\\mathbb{E}_\\mathbf{D}\\left[\\mathbb{E}_\\mathcal{out}(g^{(\\mathcal{D})})\\right] = bias + variance$$"
   ]
  },
  {
   "cell_type": "markdown",
   "metadata": {},
   "source": [
    "---\n",
    "- Tại $H(x) = b$"
   ]
  },
  {
   "cell_type": "code",
   "execution_count": 14,
   "metadata": {},
   "outputs": [],
   "source": [
    "def get_b_list(N=10000):\n",
    "    b = []\n",
    "    for i in range(N):\n",
    "        X, Y = generate_dataset(2)\n",
    "        b.append(np.mean(Y))\n",
    "    return b"
   ]
  },
  {
   "cell_type": "code",
   "execution_count": 15,
   "metadata": {},
   "outputs": [
    {
     "name": "stdout",
     "output_type": "stream",
     "text": [
      "Eout = bias + varinace = 0.49 + 0.26 = 0.75\n"
     ]
    }
   ],
   "source": [
    "b_list = get_b_list()\n",
    "b_hat = np.mean(b_list)\n",
    "bias = np.mean((b_hat - Y)**2)\n",
    "variance = np.mean((b_list - b_hat)**2)\n",
    "print(\"Eout = bias + varinace = {} + {} = {}\".format(np.round(bias, 2),\n",
    "                                                   np.round(variance, 2),\n",
    "                                                   np.round(bias + variance, 2))) "
   ]
  },
  {
   "cell_type": "markdown",
   "metadata": {},
   "source": [
    "---\n",
    "- Tại $H(x) = ax$\n",
    "\n",
    "Dạng này tương tự câu 4,5 và 6. Do đó ta có kết quả: "
   ]
  },
  {
   "cell_type": "code",
   "execution_count": 16,
   "metadata": {},
   "outputs": [
    {
     "name": "stdout",
     "output_type": "stream",
     "text": [
      "Eout = bias + varinace = 0.28 + 0.24 = 0.52\n"
     ]
    }
   ],
   "source": [
    "a_list = get_a_list(10000)\n",
    "a_hat = np.mean(a_list)\n",
    "bias = np.mean((a_hat * X - Y)**2)\n",
    "variance = np.mean((X*a_list - a_hat * X)**2)\n",
    "print(\"Eout = bias + varinace = {} + {} = {}\".format(np.round(bias, 2),\n",
    "                                                   np.round(variance, 2),\n",
    "                                                   np.round(bias + variance, 2))) "
   ]
  },
  {
   "cell_type": "markdown",
   "metadata": {},
   "source": [
    "---\n",
    "- Tại $H(x) = ax + b$"
   ]
  },
  {
   "cell_type": "code",
   "execution_count": 17,
   "metadata": {},
   "outputs": [],
   "source": [
    "def get_a_b_list(N=10000):\n",
    "    a_list = []\n",
    "    b_list = []\n",
    "    for i in range(N):\n",
    "        X, Y = generate_dataset(2)\n",
    "        a = (Y[1]-Y[0])/(X[1]- X[0])\n",
    "        b = Y[1] - a*X[1]\n",
    "        a_list.append(a)\n",
    "        b_list.append(b)\n",
    "    return a_list, b_list"
   ]
  },
  {
   "cell_type": "code",
   "execution_count": 18,
   "metadata": {},
   "outputs": [
    {
     "name": "stdout",
     "output_type": "stream",
     "text": [
      "Eout = bias + varinace = 0.2 + 1.68 = 1.89\n"
     ]
    }
   ],
   "source": [
    "a_list, b_list = get_a_b_list()\n",
    "a_hat = np.mean(a_list)\n",
    "b_hat = np.mean(b_list)\n",
    "bias = np.mean((a_hat*X + b_hat - Y)**2)\n",
    "variance = np.mean((a_list*X + b_list - a_hat*X  - b_hat)**2)\n",
    "print(\"Eout = bias + varinace = {} + {} = {}\".format(np.round(bias, 2),\n",
    "                                                   np.round(variance, 2),\n",
    "                                                   np.round(bias + variance, 2))) "
   ]
  },
  {
   "cell_type": "markdown",
   "metadata": {},
   "source": [
    "---\n",
    "- Tại $H(x) = ax^2$"
   ]
  },
  {
   "cell_type": "code",
   "execution_count": 19,
   "metadata": {},
   "outputs": [],
   "source": [
    "\n",
    "\n",
    "#Tìm a^ của g^ = (a^)x^2\n",
    "def get_a_list2(N):\n",
    "    a = []\n",
    "    a_value = 0\n",
    "    for _ in range(N):\n",
    "        # two random points\n",
    "        X,Y = generate_dataset(2)\n",
    "        a_value = (X[0]**2 * Y[0] + X[1]**2 * Y[1]) / (X[0]**4 + X[1]**4)\n",
    "        a.append(a_value)\n",
    "    return a"
   ]
  },
  {
   "cell_type": "code",
   "execution_count": 20,
   "metadata": {},
   "outputs": [
    {
     "name": "stdout",
     "output_type": "stream",
     "text": [
      "Eout = bias + varinace = 0.5 + 19.08 = 19.58\n"
     ]
    }
   ],
   "source": [
    "a_list = get_a_list2(100000)\n",
    "a_hat = np.mean(a_list)\n",
    "X, Y = generate_dataset(100000)\n",
    "bias = np.mean((a_hat*(X**2) - Y)**2)\n",
    "variance = np.mean((a_list * X**2 - (a_hat * X**2))**2)\n",
    "print(\"Eout = bias + varinace = {} + {} = {}\".format(np.round(bias, 2),\n",
    "                                                   np.round(variance, 2),\n",
    "                                                   np.round(bias + variance, 2))) "
   ]
  },
  {
   "cell_type": "markdown",
   "metadata": {},
   "source": [
    "---\n",
    "- Tại $H(x) = ax^2 + b$"
   ]
  },
  {
   "cell_type": "code",
   "execution_count": 21,
   "metadata": {},
   "outputs": [],
   "source": [
    "#Tìm a^ của g^ = (a^)x^2 + b^\n",
    "def get_a_b_list2(N):\n",
    "    a = []\n",
    "    a_value = 0\n",
    "    b = []\n",
    "    b_value = 0\n",
    "    for _ in range(N):\n",
    "       # two random points\n",
    "        X,Y = generate_dataset(2)\n",
    "       \n",
    "        i = (X[0]**2 + X[1]**2)\n",
    "        j = (Y[0] + Y[1])\n",
    "        k = (X[0]**4 + X[1]**4)\n",
    "        m = (X[0]**2 * Y[0] + X[1]**2 * Y[1])\n",
    "\n",
    "        a_value = (2 * m - i * j) / (2 * k - i ** 2)\n",
    "        b_value = (j * k - i * m) / (2 * k - i ** 2)\n",
    "        a.append(a_value)\n",
    "        b.append(b_value)\n",
    "    return a,b"
   ]
  },
  {
   "cell_type": "code",
   "execution_count": 22,
   "metadata": {},
   "outputs": [
    {
     "name": "stdout",
     "output_type": "stream",
     "text": [
      "Eout = bias + varinace = 3.62 + 9790.06 = 9793.68\n"
     ]
    }
   ],
   "source": [
    "a_list, b_list  = get_a_b_list2(10000)\n",
    "a_hat = np.mean(a_list)\n",
    "b_hat = np.mean(b_list)\n",
    "X, Y = generate_dataset(10000)\n",
    "bias = np.mean((a_hat*(X**2) + b_hat - Y)**2)\n",
    "variance = np.mean((a_list * X**2 + b_list - (a_hat * X**2 + b_hat))**2)\n",
    "print(\"Eout = bias + varinace = {} + {} = {}\".format(np.round(bias, 2),\n",
    "                                                   np.round(variance, 2),\n",
    "                                                   np.round(bias + variance, 2))) "
   ]
  },
  {
   "cell_type": "markdown",
   "metadata": {
    "deletable": false,
    "nbgrader": {
     "cell_type": "markdown",
     "checksum": "322a244b0fae3a20ec568a5099aaaec1",
     "grade": true,
     "grade_id": "c7",
     "locked": false,
     "points": 1,
     "schema_version": 3,
     "solution": true,
     "task": false
    }
   },
   "source": [
    "YOUR ANSWER HERE Ta thấy kết quả tại H(x) = ax bằng 0.5 là nhỏ nhất. Do đó, em chọn đáp án [b]"
   ]
  },
  {
   "cell_type": "markdown",
   "metadata": {},
   "source": [
    "## Câu 8 (1 điểm)"
   ]
  },
  {
   "cell_type": "markdown",
   "metadata": {},
   "source": [
    "Theo đề bài:\n",
    "- $m_\\mathcal{H}(1)=2$.\n",
    "- $m_\\mathcal{H}(N+1) = 2m_\\mathcal{H}(N) - \\binom{N}{q}$ với $q$ là một số nguyên cố định $\\ge1$. Để dễ nhìn hơn, ta có thể viết lại công thức này như sau: $m_\\mathcal{H}(N) = 2m_\\mathcal{H}(N-1) - \\binom{N-1}{q}$.\n",
    "\n",
    "Bây giờ, thử tăng $N$ dần lên ($N = 1, 2, 3, ...$). Khi nào thì $m_\\mathcal{H}(N)$ sẽ bị break?\n",
    "\n",
    "Với $N = d$ là break point thì  $m_\\mathcal{H}(d)=2^d$. Khi đó phương trình trên trở thành:\n",
    "\n",
    "- $2^d = 2.2^{d-1} - \\binom{d-1}{q}$ <=> $\\binom{d-1}{q} = 0$ <=> $d<q+1$\n",
    "\n",
    "hay:\n",
    "\n",
    "- $d\\le q$"
   ]
  },
  {
   "cell_type": "code",
   "execution_count": 23,
   "metadata": {},
   "outputs": [
    {
     "name": "stdout",
     "output_type": "stream",
     "text": [
      "q = 2   N = 1   m_H = 2  2^N = 2 shattered? True\n",
      "q = 2   N = 2   m_H = 4  2^N = 4 shattered? True\n",
      "q = 2   N = 3   m_H = 7  2^N = 8 shattered? False\n",
      "q = 2   N = 4   m_H = 11  2^N = 16 shattered? False\n",
      "q = 2   N = 5   m_H = 16  2^N = 32 shattered? False\n",
      "q = 2   N = 6   m_H = 22  2^N = 64 shattered? False\n",
      "q = 2   N = 7   m_H = 29  2^N = 128 shattered? False\n",
      "q = 2   N = 8   m_H = 37  2^N = 256 shattered? False\n",
      "q = 2   N = 9   m_H = 46  2^N = 512 shattered? False\n",
      "\n",
      "Result: VC dimension d_vc = 2, q = 2\n",
      "q = 3   N = 1   m_H = 2  2^N = 2 shattered? True\n",
      "q = 3   N = 2   m_H = 4  2^N = 4 shattered? True\n",
      "q = 3   N = 3   m_H = 8  2^N = 8 shattered? True\n",
      "q = 3   N = 4   m_H = 15  2^N = 16 shattered? False\n",
      "q = 3   N = 5   m_H = 26  2^N = 32 shattered? False\n",
      "q = 3   N = 6   m_H = 42  2^N = 64 shattered? False\n",
      "q = 3   N = 7   m_H = 64  2^N = 128 shattered? False\n",
      "q = 3   N = 8   m_H = 93  2^N = 256 shattered? False\n",
      "q = 3   N = 9   m_H = 130  2^N = 512 shattered? False\n",
      "\n",
      "Result: VC dimension d_vc = 3, q = 3\n",
      "q = 4   N = 1   m_H = 2  2^N = 2 shattered? True\n",
      "q = 4   N = 2   m_H = 4  2^N = 4 shattered? True\n",
      "q = 4   N = 3   m_H = 8  2^N = 8 shattered? True\n",
      "q = 4   N = 4   m_H = 16  2^N = 16 shattered? True\n",
      "q = 4   N = 5   m_H = 31  2^N = 32 shattered? False\n",
      "q = 4   N = 6   m_H = 57  2^N = 64 shattered? False\n",
      "q = 4   N = 7   m_H = 99  2^N = 128 shattered? False\n",
      "q = 4   N = 8   m_H = 163  2^N = 256 shattered? False\n",
      "q = 4   N = 9   m_H = 256  2^N = 512 shattered? False\n",
      "\n",
      "Result: VC dimension d_vc = 4, q = 4\n",
      "q = 5   N = 1   m_H = 2  2^N = 2 shattered? True\n",
      "q = 5   N = 2   m_H = 4  2^N = 4 shattered? True\n",
      "q = 5   N = 3   m_H = 8  2^N = 8 shattered? True\n",
      "q = 5   N = 4   m_H = 16  2^N = 16 shattered? True\n",
      "q = 5   N = 5   m_H = 32  2^N = 32 shattered? True\n",
      "q = 5   N = 6   m_H = 63  2^N = 64 shattered? False\n",
      "q = 5   N = 7   m_H = 120  2^N = 128 shattered? False\n",
      "q = 5   N = 8   m_H = 219  2^N = 256 shattered? False\n",
      "q = 5   N = 9   m_H = 382  2^N = 512 shattered? False\n",
      "\n",
      "Result: VC dimension d_vc = 5, q = 5\n"
     ]
    }
   ],
   "source": [
    "def N_choose_k(N, k):\n",
    "    if k > N: return 0\n",
    "    return math.factorial(N) // (math.factorial(k) * math.factorial(N-k))\n",
    "\n",
    "def m_H(N, q):\n",
    "    if N == 1:\n",
    "        return 2 \n",
    "    return 2 * m_H(N-1, q) - N_choose_k(N-1, q)\n",
    "\n",
    "\n",
    "def get_N(Nmax,q): #Nmax: giá trị giới hạn, chạy từ 1->Nmax\n",
    "    d_vc = -1\n",
    "    for N in range(1,Nmax):\n",
    "        shattered = (m_H(N, q) == 2**N)\n",
    "        if shattered:\n",
    "            d_vc = N\n",
    "        print(\"q = {}   N = {}   m_H = {}  2^N = {} shattered? {}\".format(q,N,m_H(N, q),2**N,shattered))\n",
    "\n",
    "    print(\"\\nResult: VC dimension d_vc = {}, q = {}\".format(d_vc,q))\n",
    "\n",
    "get_N(10,2)\n",
    "get_N(10,3)\n",
    "get_N(10,4)\n",
    "get_N(10,5)"
   ]
  },
  {
   "cell_type": "markdown",
   "metadata": {
    "deletable": false,
    "nbgrader": {
     "cell_type": "markdown",
     "checksum": "d81773f072cd15e4a27b6cd240a5d990",
     "grade": true,
     "grade_id": "c8",
     "locked": false,
     "points": 1,
     "schema_version": 3,
     "solution": true,
     "task": false
    }
   },
   "source": [
    "YOUR ANSWER HERE Ta thấy các kết quả thử đều cho ra d_vc = q. Do đó, em chọn đáp án [c]"
   ]
  },
  {
   "cell_type": "markdown",
   "metadata": {},
   "source": [
    "## Câu 9 (1 điểm)"
   ]
  },
  {
   "cell_type": "markdown",
   "metadata": {},
   "source": [
    "$\\bigcap_{k=1}^{K} H_k$ là tập giả thuyết nhỏ nhất trong các tập $H$ đang xét vì là phép giao. Nên nó có thể bị phá vỡ bỡi bất cứ $d_{vc}$ của tập $H_i$ nào.\n",
    "\n",
    "Do đó: \n",
    "- $d_{vc}(\\bigcap_{k=1}^{K} H_k) \\leq d_{vc}(H_i)$   (với $1\\leq i \\leq K$)\n",
    " \n",
    "Hay: \n",
    "- $d_{vc}(\\bigcap_{k=1}^{K} H_k) \\leq min\\{d_{vc}(H_i)\\}$ \n",
    "\n",
    "Ở trường hợp xấu nhất, có thể tồn tại 2 tập $H$ không trùng nhau hay $H_1 \\cap H_2 = \\theta => d_{vc}(\\bigcap_{k=1}^{K} H_k) = 0$. \n",
    "\n",
    "**Vậy**: \n",
    "- $0 \\leq d_{vc}(\\bigcap_{k=1}^{K} H_k) \\leq min\\{d_{vc}(H_i)\\}$\n"
   ]
  },
  {
   "cell_type": "markdown",
   "metadata": {
    "deletable": false,
    "nbgrader": {
     "cell_type": "markdown",
     "checksum": "e814a2db0b8a53e4fddfee4bcbf405fc",
     "grade": true,
     "grade_id": "c9",
     "locked": false,
     "points": 1,
     "schema_version": 3,
     "solution": true,
     "task": false
    }
   },
   "source": [
    "YOUR ANSWER HERE Do đó, em chọn đáp án [b]"
   ]
  },
  {
   "cell_type": "markdown",
   "metadata": {},
   "source": [
    "## Câu 10 (1 điểm)"
   ]
  },
  {
   "cell_type": "markdown",
   "metadata": {},
   "source": [
    "**Chặn dưới:**\n",
    "\n",
    "Vì chúng ta hợp các giả thuyết lại với nhau, nên tập hợp các bộ giả thuyết phải có $d_{vc}$ lớn nhất bằng $d_{vc}$ lớn nhất trong số các bộ. Ít nhất, chúng ta bảo toàn khả năng phá vỡ một tập hợp các điểm lớn bằng tập hợp các điểm lớn nhất có thể bị phá vỡ bởi một trong những giả thuyết ban đầu được đặt riêng lẻ. \n",
    "\n",
    "Do đó: \n",
    "- $max\\{ d_{vc}(H_k)\\}_{k=1}^{K} \\leq d_{vc}(\\bigcup_{k=1}^{K} H_k)$\n",
    "\n",
    "**Chặn trên:**\n",
    "- (phần này em không biết chứng minh ạ!)"
   ]
  },
  {
   "cell_type": "markdown",
   "metadata": {
    "deletable": false,
    "nbgrader": {
     "cell_type": "markdown",
     "checksum": "41cbf5c6d2b94eeae0a712be2181fef6",
     "grade": true,
     "grade_id": "c10",
     "locked": false,
     "points": 1,
     "schema_version": 3,
     "solution": true,
     "task": false
    }
   },
   "source": [
    "YOUR ANSWER HERE Do đó, em chọn đáp án [e]"
   ]
  }
 ],
 "metadata": {
  "kernelspec": {
   "display_name": "Python 3",
   "language": "python",
   "name": "python3"
  },
  "language_info": {
   "codemirror_mode": {
    "name": "ipython",
    "version": 3
   },
   "file_extension": ".py",
   "mimetype": "text/x-python",
   "name": "python",
   "nbconvert_exporter": "python",
   "pygments_lexer": "ipython3",
   "version": "3.7.6"
  },
  "toc": {
   "base_numbering": 1,
   "nav_menu": {},
   "number_sections": true,
   "sideBar": true,
   "skip_h1_title": false,
   "title_cell": "Table of Contents",
   "title_sidebar": "Contents",
   "toc_cell": false,
   "toc_position": {},
   "toc_section_display": true,
   "toc_window_display": false
  },
  "varInspector": {
   "cols": {
    "lenName": 16,
    "lenType": 16,
    "lenVar": 40
   },
   "kernels_config": {
    "python": {
     "delete_cmd_postfix": "",
     "delete_cmd_prefix": "del ",
     "library": "var_list.py",
     "varRefreshCmd": "print(var_dic_list())"
    },
    "r": {
     "delete_cmd_postfix": ") ",
     "delete_cmd_prefix": "rm(",
     "library": "var_list.r",
     "varRefreshCmd": "cat(var_dic_list()) "
    }
   },
   "types_to_exclude": [
    "module",
    "function",
    "builtin_function_or_method",
    "instance",
    "_Feature"
   ],
   "window_display": false
  }
 },
 "nbformat": 4,
 "nbformat_minor": 4
}
